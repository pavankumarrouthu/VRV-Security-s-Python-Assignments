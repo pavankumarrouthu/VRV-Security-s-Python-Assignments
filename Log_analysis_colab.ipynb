{
  "cells": [
    {
      "cell_type": "markdown",
      "metadata": {
        "id": "view-in-github",
        "colab_type": "text"
      },
      "source": [
        "<a href=\"https://colab.research.google.com/github/pavankumarrouthu/VRV-Security-s-Python-Assignments/blob/main/Log_analysis_colab.ipynb\" target=\"_parent\"><img src=\"https://colab.research.google.com/assets/colab-badge.svg\" alt=\"Open In Colab\"/></a>"
      ]
    },
    {
      "cell_type": "code",
      "execution_count": 1,
      "metadata": {
        "colab": {
          "base_uri": "https://localhost:8080/"
        },
        "id": "LV0E8P7j_DdK",
        "outputId": "400ce3d7-38a2-4c0c-971a-9f0b1580c6d0"
      },
      "outputs": [
        {
          "output_type": "stream",
          "name": "stdout",
          "text": [
            "34\n"
          ]
        }
      ],
      "source": [
        "#-------------------------------------------------------------\n",
        "#This is just normal code to read how many lines in the log file\n",
        "\n",
        "f = open('sample.log','r')\n",
        "count = 0\n",
        "i = f.readline()\n",
        "while i:\n",
        "    count = count + 1\n",
        "    i = f.readline()\n",
        "print(count)\n",
        "\n",
        "f.close()"
      ]
    },
    {
      "cell_type": "markdown",
      "source": [
        "Count Requests from the given file\n",
        "\n",
        "    - Parse the provided log file to extract all IP addresses.\n",
        "    - Calculate the number of requests made by each IP address.\n",
        "    - Sort and display the results in descending order of request counts."
      ],
      "metadata": {
        "id": "U7LgY2cwYngE"
      }
    },
    {
      "cell_type": "code",
      "source": [
        "#This library is to returns a list containing all matches\n",
        "#or search the string type in this give line of text\n",
        "import re\n",
        "\n",
        "f = open('sample.log','r')\n",
        "x = []\n",
        "log_entry = f.readline()\n",
        "while log_entry :\n",
        "    # To find all IP addresses in the log data\n",
        "    y = re.findall(r'\\b\\d{1,3}\\.\\d{1,3}\\.\\d{1,3}\\.\\d{1,3}\\b', log_entry)\n",
        "    x.append(y)\n",
        "    log_entry = f.readline()\n",
        "\n",
        "ip_set = {}\n",
        "for a in range(len(x)):\n",
        "  ip_set[x[a][0]] = 0\n",
        "for a in range(len(x)):\n",
        "  ip_set[x[a][0]] += 1\n",
        "print(\"Total for each IP Address\")\n",
        "print(\"IP Address\",\"\\t\",\"Request Count\")\n",
        "for i in ip_set:\n",
        "  print(i,\"\\t\",ip_set[i])"
      ],
      "metadata": {
        "colab": {
          "base_uri": "https://localhost:8080/"
        },
        "id": "Pi8LiRg04eNQ",
        "outputId": "a2e9e171-4dda-477f-f632-4d27d6da96c1"
      },
      "execution_count": 2,
      "outputs": [
        {
          "output_type": "stream",
          "name": "stdout",
          "text": [
            "Total for each IP Address\n",
            "IP Address \t Request Count\n",
            "192.168.1.1 \t 7\n",
            "203.0.113.5 \t 8\n",
            "10.0.0.2 \t 6\n",
            "198.51.100.23 \t 8\n",
            "192.168.1.100 \t 5\n"
          ]
        }
      ]
    },
    {
      "cell_type": "code",
      "source": [
        "import re\n",
        "f = open('sample.log','r')\n",
        "log_entry = f.readline()\n",
        "\n",
        "list_endpoints = []\n",
        "while log_entry:\n",
        "  #e = re.findall(r'\\b\\d{1,9}\\b ', a)\n",
        "  match = re.findall(r'\"[A-Z]+ (\\S+) HTTP', log_entry)\n",
        "  list_endpoints.append(match[0])\n",
        "  log_entry = f.readline()\n",
        "\n",
        "endpoints_dict = {}\n",
        "for i in list_endpoints:\n",
        "  endpoints_dict[i] = 0\n",
        "for i in list_endpoints:\n",
        "  endpoints_dict[i] += 1\n",
        "\n",
        "\n",
        "max_count = 0\n",
        "for i in endpoints_dict:\n",
        "  if endpoints_dict[i] > max_count :\n",
        "    (endpoint,max_count) = (i,endpoints_dict[i])\n",
        "print(\"Most acessed endpoints is \\t : \")\n",
        "print(\"Endpoint\",endpoint,\"Accessed\",max_count,\"times\")\n"
      ],
      "metadata": {
        "colab": {
          "base_uri": "https://localhost:8080/"
        },
        "id": "YDaiPb6CKii3",
        "outputId": "bb72a502-07ee-45d6-a92a-9ea4d847687b"
      },
      "execution_count": 3,
      "outputs": [
        {
          "output_type": "stream",
          "name": "stdout",
          "text": [
            "Most acessed endpoints is \t : \n",
            "Endpoint /login Accessed 13 times\n"
          ]
        }
      ]
    },
    {
      "cell_type": "code",
      "execution_count": 4,
      "metadata": {
        "id": "VKaIzMsKBmEi"
      },
      "outputs": [],
      "source": [
        "import re\n",
        "f = open('sample.log','r')\n",
        "log_entry = f.readline()\n",
        "\n",
        "ip_add = {}\n",
        "while log_entry:\n",
        "  e = re.findall(r'\\b\\d{1,3}\\.\\d{1,3}\\.\\d{1,3}\\.\\d{1,3}\\b ', log_entry)\n",
        "  x = re.search(\"Invalid credentials\", log_entry)\n",
        "  ip_add[e[0]] = 0\n",
        "  log_entry = f.readline()\n",
        "f.close()"
      ]
    },
    {
      "cell_type": "code",
      "source": [
        "#-----------------------------------------------------------------------\n",
        "# NOTE --> DON'T RUN THIS CELL DIRECTLY OR DON'T RUN IT ALONE-----------\n",
        "# BEFORE RUNNING THIS CELL YOU HAVE TO RUN PREVIOUS CELL----------------\n",
        "#ELSE --> THE OUTPUT IS INCREMENTAL-------------------------------------\n",
        "#-----------------------------------------------------------------------\n",
        "import re\n",
        "f = open('sample.log','r')\n",
        "log_entry = f.readline()\n",
        "while log_entry:\n",
        "  e = re.findall(r'\\b\\d{1,3}\\.\\d{1,3}\\.\\d{1,3}\\.\\d{1,3}\\b ', log_entry)\n",
        "  if re.search(\"Invalid credentials\", log_entry):\n",
        "    ip_add[e[0]] = ip_add[e[0]]+1\n",
        "  else :\n",
        "    pass\n",
        "  log_entry = f.readline()\n",
        "\n",
        "print(\"Suspicious Activity Detected:\")\n",
        "print(\"IP Address\",\"\\t\",\"Failed Login Attempts\")\n",
        "for i in ip_add :\n",
        "  if ip_add[i] != 0 :\n",
        "    print(i,\"\\t\",ip_add[i])\n",
        "f.close()\n",
        "\n",
        "\n",
        "#Dont run this multiple times\n"
      ],
      "metadata": {
        "colab": {
          "base_uri": "https://localhost:8080/"
        },
        "id": "66ZnigxVDtIK",
        "outputId": "40690e84-1129-4e9d-dcae-9ba78a9563e9"
      },
      "execution_count": 5,
      "outputs": [
        {
          "output_type": "stream",
          "name": "stdout",
          "text": [
            "Suspicious Activity Detected:\n",
            "IP Address \t Failed Login Attempts\n",
            "203.0.113.5  \t 8\n",
            "192.168.1.100  \t 5\n"
          ]
        }
      ]
    }
  ],
  "metadata": {
    "colab": {
      "provenance": [],
      "authorship_tag": "ABX9TyOKGdXsQU0N6oXP0a16hzME",
      "include_colab_link": true
    },
    "kernelspec": {
      "display_name": "Python 3",
      "name": "python3"
    },
    "language_info": {
      "name": "python"
    }
  },
  "nbformat": 4,
  "nbformat_minor": 0
}