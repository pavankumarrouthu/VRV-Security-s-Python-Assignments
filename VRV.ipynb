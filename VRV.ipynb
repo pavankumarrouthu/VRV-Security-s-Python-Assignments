{
  "cells": [
    {
      "cell_type": "code",
      "execution_count": 78,
      "metadata": {
        "colab": {
          "base_uri": "https://localhost:8080/"
        },
        "id": "LV0E8P7j_DdK",
        "outputId": "d19a7d20-f9d0-4f20-cf47-101c74d9f731"
      },
      "outputs": [
        {
          "output_type": "stream",
          "name": "stdout",
          "text": [
            "34\n"
          ]
        }
      ],
      "source": [
        "f = open('sample.log','r')\n",
        "count = 0\n",
        "i = f.readline()\n",
        "while i:\n",
        "    count = count + 1\n",
        "    i = f.readline()\n",
        "print(count)\n",
        "\n",
        "f.close()"
      ]
    },
    {
      "cell_type": "code",
      "source": [
        "#This library is to returns a list containing all matches\n",
        "#or search the string type in this give line of text\n",
        "import re\n",
        "\n",
        "f = open('sample.log','r')\n",
        "x = []\n",
        "log_entry = f.readline()\n",
        "while log_entry :\n",
        "    # To find all IP addresses in the log data\n",
        "    y = re.findall(r'\\b\\d{1,3}\\.\\d{1,3}\\.\\d{1,3}\\.\\d{1,3}\\b', log_entry)\n",
        "    x.append(y)\n",
        "    log_entry = f.readline()\n",
        "\n",
        "ip_set = {}\n",
        "for a in range(len(x)):\n",
        "  ip_set[x[a][0]] = 0\n",
        "for a in range(len(x)):\n",
        "  ip_set[x[a][0]] += 1\n",
        "print(\"Total for each IP Address\")\n",
        "print(\"IP Address\",\"\\t\",\"Request Count\")\n",
        "for i in ip_set:\n",
        "  print(i,\"\\t\",ip_set[i])"
      ],
      "metadata": {
        "colab": {
          "base_uri": "https://localhost:8080/"
        },
        "id": "Pi8LiRg04eNQ",
        "outputId": "26066561-5b5a-4fd2-a5df-9ac74809d03b"
      },
      "execution_count": 79,
      "outputs": [
        {
          "output_type": "stream",
          "name": "stdout",
          "text": [
            "Total for each IP Address\n",
            "IP Address \t Request Count\n",
            "192.168.1.1 \t 7\n",
            "203.0.113.5 \t 8\n",
            "10.0.0.2 \t 6\n",
            "198.51.100.23 \t 8\n",
            "192.168.1.100 \t 5\n"
          ]
        }
      ]
    },
    {
      "cell_type": "code",
      "execution_count": 80,
      "metadata": {
        "id": "VKaIzMsKBmEi"
      },
      "outputs": [],
      "source": [
        "import re\n",
        "f = open('sample.log','r')\n",
        "log_entry = f.readline()\n",
        "\n",
        "l = {}\n",
        "while log_entry:\n",
        "  e = re.findall(r'\\b\\d{1,3}\\.\\d{1,3}\\.\\d{1,3}\\.\\d{1,3}\\b ', log_entry)\n",
        "  x = re.search(\"Invalid credentials\", log_entry)\n",
        "  l[e[0]] = 0\n",
        "  log_entry = f.readline()\n",
        "f.close()"
      ]
    },
    {
      "cell_type": "code",
      "source": [
        "#-----------------------------------------------------------------------\n",
        "# NOTE --> DON'T RUN THIS CELL DIRECTLY OR DON'T RUN IT ALONE-----------\n",
        "# BEFORE RUNNING THIS CELL YOU HAVE TO RUN PREVIOUS CELL----------------\n",
        "#ELSE --> THE OUTPUT IS INCREMENTAL-------------------------------------\n",
        "#-----------------------------------------------------------------------\n",
        "import re\n",
        "f = open('sample.log','r')\n",
        "log_entry = f.readline()\n",
        "while log_entry:\n",
        "  e = re.findall(r'\\b\\d{1,3}\\.\\d{1,3}\\.\\d{1,3}\\.\\d{1,3}\\b ', log_entry)\n",
        "  if re.search(\"Invalid credentials\", log_entry):\n",
        "    l[e[0]] = l[e[0]]+1\n",
        "  else :\n",
        "    pass\n",
        "  log_entry = f.readline()\n",
        "\n",
        "print(\"Suspicious Activity Detected:\")\n",
        "print(\"IP Address\",\"\\t\",\"Failed Login Attempts\")\n",
        "for i in l :\n",
        "  if l[i] != 0 :\n",
        "    print(i,\"\\t\",l[i])\n",
        "f.close()"
      ],
      "metadata": {
        "colab": {
          "base_uri": "https://localhost:8080/"
        },
        "id": "66ZnigxVDtIK",
        "outputId": "9afc1ad2-38a7-49cb-8ac1-b4c526fbcc9a"
      },
      "execution_count": 82,
      "outputs": [
        {
          "output_type": "stream",
          "name": "stdout",
          "text": [
            "Suspicious Activity Detected:\n",
            "IP Address \t Failed Login Attempts\n",
            "203.0.113.5  \t 8\n",
            "192.168.1.100  \t 5\n"
          ]
        }
      ]
    },
    {
      "cell_type": "code",
      "source": [
        "import re\n",
        "f = open('sample.log','r')\n",
        "log_entry = f.readline()\n",
        "\n",
        "l = []\n",
        "while log_entry:\n",
        "  #e = re.findall(r'\\b\\d{1,9}\\b ', a)\n",
        "  match = re.findall(r'\"[A-Z]+ (\\S+) HTTP', log_entry)\n",
        "  l.append(match[0])\n",
        "  log_entry = f.readline()\n",
        "\n",
        "m = {}\n",
        "for i in l:\n",
        "  m[i] = 0\n",
        "for i in l:\n",
        "  m[i] += 1\n",
        "\n",
        "\n",
        "max_count = 0\n",
        "for i in m:\n",
        "  if m[i] > max_count :\n",
        "    (endpoint,max_count) = (i,m[i])\n",
        "print(\"Most acessed endpoints is \\t : \")\n",
        "print(\"Endpoint\",endpoint,\"Accessed\",max_count,\"times\")\n"
      ],
      "metadata": {
        "colab": {
          "base_uri": "https://localhost:8080/"
        },
        "id": "YDaiPb6CKii3",
        "outputId": "cbbde6dc-c561-4c8e-b2f2-6fb16c561944"
      },
      "execution_count": 83,
      "outputs": [
        {
          "output_type": "stream",
          "name": "stdout",
          "text": [
            "Most acessed endpoints is \t : \n",
            "Endpoint /login Accessed 13 times\n"
          ]
        }
      ]
    }
  ],
  "metadata": {
    "colab": {
      "provenance": []
    },
    "kernelspec": {
      "display_name": "Python 3",
      "name": "python3"
    },
    "language_info": {
      "name": "python"
    }
  },
  "nbformat": 4,
  "nbformat_minor": 0
}